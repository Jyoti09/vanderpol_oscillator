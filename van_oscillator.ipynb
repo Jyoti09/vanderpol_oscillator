{
 "cells": [
  {
   "cell_type": "code",
   "execution_count": 4,
   "metadata": {
    "collapsed": false
   },
   "outputs": [
    {
     "name": "stderr",
     "output_type": "stream",
     "text": [
      "/usr/lib/python3/dist-packages/matplotlib/axes.py:2538: UserWarning: Attempting to set identical left==right results\n",
      "in singular transformations; automatically expanding.\n",
      "left=-4, right=-4\n",
      "  + 'left=%s, right=%s') % (left, right))\n"
     ]
    },
    {
     "ename": "AttributeError",
     "evalue": "'FuncAnimation' object has no attribute 'to_html5_video'",
     "output_type": "error",
     "traceback": [
      "\u001b[0;31m---------------------------------------------------------------------------\u001b[0m",
      "\u001b[0;31mAttributeError\u001b[0m                            Traceback (most recent call last)",
      "\u001b[0;32m<ipython-input-4-0cd673dbb365>\u001b[0m in \u001b[0;36m<module>\u001b[0;34m()\u001b[0m\n\u001b[1;32m     31\u001b[0m \u001b[0manim\u001b[0m\u001b[0;34m=\u001b[0m\u001b[0manimation\u001b[0m\u001b[0;34m.\u001b[0m\u001b[0mFuncAnimation\u001b[0m\u001b[0;34m(\u001b[0m\u001b[0mfig\u001b[0m\u001b[0;34m,\u001b[0m \u001b[0manimate\u001b[0m\u001b[0;34m,\u001b[0m \u001b[0mnp\u001b[0m\u001b[0;34m.\u001b[0m\u001b[0marange\u001b[0m\u001b[0;34m(\u001b[0m\u001b[0;36m1\u001b[0m\u001b[0;34m,\u001b[0m\u001b[0mnpts\u001b[0m\u001b[0;34m)\u001b[0m\u001b[0;34m,\u001b[0m \u001b[0minit_func\u001b[0m\u001b[0;34m=\u001b[0m\u001b[0minit\u001b[0m\u001b[0;34m,\u001b[0m \u001b[0minterval\u001b[0m\u001b[0;34m=\u001b[0m\u001b[0;36m25\u001b[0m\u001b[0;34m,\u001b[0m \u001b[0mblit\u001b[0m\u001b[0;34m=\u001b[0m\u001b[0;32mTrue\u001b[0m\u001b[0;34m)\u001b[0m\u001b[0;34m\u001b[0m\u001b[0m\n\u001b[1;32m     32\u001b[0m \u001b[0;34m\u001b[0m\u001b[0m\n\u001b[0;32m---> 33\u001b[0;31m \u001b[0mHTML\u001b[0m\u001b[0;34m(\u001b[0m\u001b[0manim\u001b[0m\u001b[0;34m.\u001b[0m\u001b[0mto_html5_video\u001b[0m\u001b[0;34m(\u001b[0m\u001b[0;34m)\u001b[0m\u001b[0;34m)\u001b[0m\u001b[0;34m\u001b[0m\u001b[0m\n\u001b[0m",
      "\u001b[0;31mAttributeError\u001b[0m: 'FuncAnimation' object has no attribute 'to_html5_video'"
     ]
    }
   ],
   "source": [
    "import numpy as np\n",
    "import matplotlib.pyplot as plt\n",
    "from scipy.integrate import odeint\n",
    "from  matplotlib import animation\n",
    "from IPython.display import HTML\n",
    "\n",
    "nu=1\n",
    "def van_der_pol_oscillator(x,t=0):\n",
    " \n",
    "    x1=x[1]\n",
    "    y=-nu * (x[0] ** 2.0 -1.0) * x[1]-x[0]\n",
    "    res=np.array([x1,y])\n",
    "    return res\n",
    "t=np.linspace(0.0,50.0,500)\n",
    "\n",
    "soln_x=odeint(van_der_pol_oscillator,[.2,.2],t,)\n",
    "#plt.plot(sol[:,0], sol[:,1])\n",
    "\n",
    "ax=plt.axes(xlim=(-4,-4),ylim=(-4,4))\n",
    "line,=ax.plot([],[],'r',lw=3)\n",
    "npts=len(soln_x)\n",
    "fig=plt.figure()\n",
    "\n",
    "def init():\n",
    "    line.set_data([],[])\n",
    "    return line,\n",
    "\n",
    "def animate(i):\n",
    "    line.set_data([l[i,0] for l in soln_x], [l[i,1] for l in sol_x])\n",
    "    return line\n",
    "anim=animation.FuncAnimation(fig, animate, np.arange(1,npts), init_func=init, interval=25, blit=True)\n",
    "\n",
    "HTML(anim.to_html5_video())\n"
   ]
  },
  {
   "cell_type": "code",
   "execution_count": null,
   "metadata": {
    "collapsed": false
   },
   "outputs": [],
   "source": []
  }
 ],
 "metadata": {
  "kernelspec": {
   "display_name": "Python 3",
   "language": "python",
   "name": "python3"
  },
  "language_info": {
   "codemirror_mode": {
    "name": "ipython",
    "version": 3
   },
   "file_extension": ".py",
   "mimetype": "text/x-python",
   "name": "python",
   "nbconvert_exporter": "python",
   "pygments_lexer": "ipython3",
   "version": "3.4.3"
  }
 },
 "nbformat": 4,
 "nbformat_minor": 0
}
